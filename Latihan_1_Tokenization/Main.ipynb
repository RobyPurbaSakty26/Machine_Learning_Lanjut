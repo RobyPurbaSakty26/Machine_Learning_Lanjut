{
 "cells": [
  {
   "cell_type": "code",
   "execution_count": 12,
   "metadata": {},
   "outputs": [],
   "source": [
    "from tensorflow.keras.preprocessing.text import Tokenizer"
   ]
  },
  {
   "cell_type": "code",
   "execution_count": 13,
   "metadata": {},
   "outputs": [],
   "source": [
    "tokenizer = Tokenizer(num_words= 14, oov_token='_')"
   ]
  },
  {
   "cell_type": "code",
   "execution_count": 14,
   "metadata": {},
   "outputs": [],
   "source": [
    "text = [\n",
    "    'Saya suka programming',\n",
    "    'Programing sangat menyenangkan',\n",
    "    'Machine Learning berbeda dengan pemograman konversional',\n",
    "    'Machine Learning programing menyenangkan'\n",
    "    ]"
   ]
  },
  {
   "cell_type": "code",
   "execution_count": 15,
   "metadata": {},
   "outputs": [],
   "source": [
    "tokenizer.fit_on_texts(text)"
   ]
  },
  {
   "cell_type": "code",
   "execution_count": 16,
   "metadata": {},
   "outputs": [],
   "source": [
    "sequences = tokenizer.texts_to_sequences(text)"
   ]
  },
  {
   "cell_type": "code",
   "execution_count": 17,
   "metadata": {},
   "outputs": [
    {
     "name": "stdout",
     "output_type": "stream",
     "text": [
      "{'_': 1, 'programing': 2, 'menyenangkan': 3, 'machine': 4, 'learning': 5, 'saya': 6, 'suka': 7, 'programming': 8, 'sangat': 9, 'berbeda': 10, 'dengan': 11, 'pemograman': 12, 'konversional': 13}\n",
      "\n",
      "kata yang di tokenisasi\n",
      "[[6, 7, 8], [2, 9, 3], [4, 5, 10, 11, 12, 13], [4, 5, 2, 3]]\n"
     ]
    }
   ],
   "source": [
    "print(tokenizer.word_index)\n",
    "print('\\nkata yang di tokenisasi')\n",
    "print(sequences)"
   ]
  },
  {
   "cell_type": "code",
   "execution_count": 18,
   "metadata": {},
   "outputs": [
    {
     "name": "stdout",
     "output_type": "stream",
     "text": [
      "[[6, 7, 2]]\n",
      "[[6, 7, 1, 1, 1, 1]]\n"
     ]
    }
   ],
   "source": [
    "print(tokenizer.texts_to_sequences(['saya suka programing']))\n",
    "print(tokenizer.texts_to_sequences(['saya suka belajar programnig sejak smp']))"
   ]
  },
  {
   "cell_type": "markdown",
   "metadata": {},
   "source": [
    "Membuar kalimat memiliki panjang yang sama"
   ]
  },
  {
   "cell_type": "code",
   "execution_count": 19,
   "metadata": {},
   "outputs": [
    {
     "name": "stdout",
     "output_type": "stream",
     "text": [
      "[[ 0  0  0  6  7  8]\n",
      " [ 0  0  0  2  9  3]\n",
      " [ 4  5 10 11 12 13]\n",
      " [ 0  0  4  5  2  3]]\n"
     ]
    }
   ],
   "source": [
    "from tensorflow.keras.preprocessing.sequence import pad_sequences\n",
    "sequences_samapanjang = pad_sequences(sequences)\n",
    "print(sequences_samapanjang)"
   ]
  },
  {
   "cell_type": "markdown",
   "metadata": {},
   "source": [
    "Jika kita ingin merubah sehingga 0 ditambahkan di akhir sequence, kita dapat menggunakan parameter padding dengan nilai ‘post’. Selain itu kita dapat mengatur parameter maxlen (panjang maksimum setiap sequence) dengan nilai yang kita inginkan. Jika kita mengisi nilai 5, maka panjang sebuah sequence tidak akan melebihi 5. "
   ]
  },
  {
   "cell_type": "code",
   "execution_count": 20,
   "metadata": {},
   "outputs": [
    {
     "name": "stdout",
     "output_type": "stream",
     "text": [
      "[[ 6  7  8  0  0]\n",
      " [ 2  9  3  0  0]\n",
      " [ 5 10 11 12 13]\n",
      " [ 4  5  2  3  0]]\n"
     ]
    }
   ],
   "source": [
    "sequences_samapanjang = pad_sequences(sequences,\n",
    "    padding = 'post',\n",
    "    maxlen = 5\n",
    ")\n",
    "print(sequences_samapanjang)"
   ]
  },
  {
   "cell_type": "code",
   "execution_count": 21,
   "metadata": {},
   "outputs": [
    {
     "name": "stdout",
     "output_type": "stream",
     "text": [
      "[[ 6  7  8  0  0]\n",
      " [ 2  9  3  0  0]\n",
      " [ 4  5 10 11 12]\n",
      " [ 4  5  2  3  0]]\n"
     ]
    }
   ],
   "source": [
    "sequences_samapanjang = pad_sequences(sequences,\n",
    "    padding = 'post',\n",
    "    maxlen = 5,\n",
    "    truncating = 'post' \n",
    ")\n",
    "print(sequences_samapanjang)"
   ]
  }
 ],
 "metadata": {
  "kernelspec": {
   "display_name": "Python 3.10.2 ('ini-env': venv)",
   "language": "python",
   "name": "python3"
  },
  "language_info": {
   "codemirror_mode": {
    "name": "ipython",
    "version": 3
   },
   "file_extension": ".py",
   "mimetype": "text/x-python",
   "name": "python",
   "nbconvert_exporter": "python",
   "pygments_lexer": "ipython3",
   "version": "3.10.2"
  },
  "orig_nbformat": 4,
  "vscode": {
   "interpreter": {
    "hash": "f478e80f65e8a33a5f70bec68c4d99c8650f3f9700a477b28bc1fa664e2a7ed6"
   }
  }
 },
 "nbformat": 4,
 "nbformat_minor": 2
}
