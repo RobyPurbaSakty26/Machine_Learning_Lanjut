{
 "cells": [
  {
   "cell_type": "markdown",
   "metadata": {},
   "source": [
    "## Roby Purba Sakty\n",
    "### Sumedang"
   ]
  },
  {
   "cell_type": "code",
   "execution_count": 87,
   "metadata": {},
   "outputs": [
    {
     "data": {
      "text/html": [
       "<div>\n",
       "<style scoped>\n",
       "    .dataframe tbody tr th:only-of-type {\n",
       "        vertical-align: middle;\n",
       "    }\n",
       "\n",
       "    .dataframe tbody tr th {\n",
       "        vertical-align: top;\n",
       "    }\n",
       "\n",
       "    .dataframe thead th {\n",
       "        text-align: right;\n",
       "    }\n",
       "</style>\n",
       "<table border=\"1\" class=\"dataframe\">\n",
       "  <thead>\n",
       "    <tr style=\"text-align: right;\">\n",
       "      <th></th>\n",
       "      <th>category</th>\n",
       "      <th>filename</th>\n",
       "      <th>title</th>\n",
       "      <th>content</th>\n",
       "    </tr>\n",
       "  </thead>\n",
       "  <tbody>\n",
       "    <tr>\n",
       "      <th>0</th>\n",
       "      <td>business</td>\n",
       "      <td>001.txt</td>\n",
       "      <td>Ad sales boost Time Warner profit</td>\n",
       "      <td>Quarterly profits at US media giant TimeWarne...</td>\n",
       "    </tr>\n",
       "    <tr>\n",
       "      <th>1</th>\n",
       "      <td>business</td>\n",
       "      <td>002.txt</td>\n",
       "      <td>Dollar gains on Greenspan speech</td>\n",
       "      <td>The dollar has hit its highest level against ...</td>\n",
       "    </tr>\n",
       "    <tr>\n",
       "      <th>2</th>\n",
       "      <td>business</td>\n",
       "      <td>003.txt</td>\n",
       "      <td>Yukos unit buyer faces loan claim</td>\n",
       "      <td>The owners of embattled Russian oil giant Yuk...</td>\n",
       "    </tr>\n",
       "    <tr>\n",
       "      <th>3</th>\n",
       "      <td>business</td>\n",
       "      <td>004.txt</td>\n",
       "      <td>High fuel prices hit BA's profits</td>\n",
       "      <td>British Airways has blamed high fuel prices f...</td>\n",
       "    </tr>\n",
       "    <tr>\n",
       "      <th>4</th>\n",
       "      <td>business</td>\n",
       "      <td>005.txt</td>\n",
       "      <td>Pernod takeover talk lifts Domecq</td>\n",
       "      <td>Shares in UK drinks and food firm Allied Dome...</td>\n",
       "    </tr>\n",
       "  </tbody>\n",
       "</table>\n",
       "</div>"
      ],
      "text/plain": [
       "   category filename                              title  \\\n",
       "0  business  001.txt  Ad sales boost Time Warner profit   \n",
       "1  business  002.txt   Dollar gains on Greenspan speech   \n",
       "2  business  003.txt  Yukos unit buyer faces loan claim   \n",
       "3  business  004.txt  High fuel prices hit BA's profits   \n",
       "4  business  005.txt  Pernod takeover talk lifts Domecq   \n",
       "\n",
       "                                             content  \n",
       "0   Quarterly profits at US media giant TimeWarne...  \n",
       "1   The dollar has hit its highest level against ...  \n",
       "2   The owners of embattled Russian oil giant Yuk...  \n",
       "3   British Airways has blamed high fuel prices f...  \n",
       "4   Shares in UK drinks and food firm Allied Dome...  "
      ]
     },
     "execution_count": 87,
     "metadata": {},
     "output_type": "execute_result"
    }
   ],
   "source": [
    "# import dataset\n",
    "import pandas as pd\n",
    "\n",
    "df = pd.read_csv('bbc-news-data.csv', sep='\\t')\n",
    "df.head()"
   ]
  },
  {
   "cell_type": "code",
   "execution_count": 88,
   "metadata": {},
   "outputs": [
    {
     "data": {
      "text/plain": [
       "(2225, 4)"
      ]
     },
     "execution_count": 88,
     "metadata": {},
     "output_type": "execute_result"
    }
   ],
   "source": [
    "# melihat jumlah data\n",
    "# row 2225\n",
    "# col 4\n",
    "df.shape"
   ]
  },
  {
   "cell_type": "code",
   "execution_count": 89,
   "metadata": {},
   "outputs": [
    {
     "data": {
      "text/plain": [
       "category    0\n",
       "filename    0\n",
       "title       0\n",
       "content     0\n",
       "dtype: int64"
      ]
     },
     "execution_count": 89,
     "metadata": {},
     "output_type": "execute_result"
    }
   ],
   "source": [
    "# melihat data yang kosong\n",
    "df.isnull().sum()"
   ]
  },
  {
   "cell_type": "code",
   "execution_count": 90,
   "metadata": {},
   "outputs": [
    {
     "name": "stdout",
     "output_type": "stream",
     "text": [
      "<class 'pandas.core.frame.DataFrame'>\n",
      "RangeIndex: 2225 entries, 0 to 2224\n",
      "Data columns (total 4 columns):\n",
      " #   Column    Non-Null Count  Dtype \n",
      "---  ------    --------------  ----- \n",
      " 0   category  2225 non-null   object\n",
      " 1   filename  2225 non-null   object\n",
      " 2   title     2225 non-null   object\n",
      " 3   content   2225 non-null   object\n",
      "dtypes: object(4)\n",
      "memory usage: 69.7+ KB\n",
      "None\n"
     ]
    }
   ],
   "source": [
    "# melihat memory yang digunakan\n",
    "print(df.info())"
   ]
  },
  {
   "cell_type": "code",
   "execution_count": 91,
   "metadata": {},
   "outputs": [
    {
     "data": {
      "text/plain": [
       "sport            511\n",
       "business         510\n",
       "politics         417\n",
       "tech             401\n",
       "entertainment    386\n",
       "Name: category, dtype: int64"
      ]
     },
     "execution_count": 91,
     "metadata": {},
     "output_type": "execute_result"
    }
   ],
   "source": [
    "# category\n",
    "plot_categoty = df.category.value_counts()\n",
    "plot_categoty"
   ]
  },
  {
   "cell_type": "code",
   "execution_count": 92,
   "metadata": {},
   "outputs": [
    {
     "data": {
      "text/html": [
       "<div>\n",
       "<style scoped>\n",
       "    .dataframe tbody tr th:only-of-type {\n",
       "        vertical-align: middle;\n",
       "    }\n",
       "\n",
       "    .dataframe tbody tr th {\n",
       "        vertical-align: top;\n",
       "    }\n",
       "\n",
       "    .dataframe thead th {\n",
       "        text-align: right;\n",
       "    }\n",
       "</style>\n",
       "<table border=\"1\" class=\"dataframe\">\n",
       "  <thead>\n",
       "    <tr style=\"text-align: right;\">\n",
       "      <th></th>\n",
       "      <th>category</th>\n",
       "      <th>title</th>\n",
       "      <th>content</th>\n",
       "    </tr>\n",
       "  </thead>\n",
       "  <tbody>\n",
       "    <tr>\n",
       "      <th>0</th>\n",
       "      <td>business</td>\n",
       "      <td>Ad sales boost Time Warner profit</td>\n",
       "      <td>Quarterly profits at US media giant TimeWarne...</td>\n",
       "    </tr>\n",
       "    <tr>\n",
       "      <th>1</th>\n",
       "      <td>business</td>\n",
       "      <td>Dollar gains on Greenspan speech</td>\n",
       "      <td>The dollar has hit its highest level against ...</td>\n",
       "    </tr>\n",
       "    <tr>\n",
       "      <th>2</th>\n",
       "      <td>business</td>\n",
       "      <td>Yukos unit buyer faces loan claim</td>\n",
       "      <td>The owners of embattled Russian oil giant Yuk...</td>\n",
       "    </tr>\n",
       "    <tr>\n",
       "      <th>3</th>\n",
       "      <td>business</td>\n",
       "      <td>High fuel prices hit BA's profits</td>\n",
       "      <td>British Airways has blamed high fuel prices f...</td>\n",
       "    </tr>\n",
       "    <tr>\n",
       "      <th>4</th>\n",
       "      <td>business</td>\n",
       "      <td>Pernod takeover talk lifts Domecq</td>\n",
       "      <td>Shares in UK drinks and food firm Allied Dome...</td>\n",
       "    </tr>\n",
       "    <tr>\n",
       "      <th>...</th>\n",
       "      <td>...</td>\n",
       "      <td>...</td>\n",
       "      <td>...</td>\n",
       "    </tr>\n",
       "    <tr>\n",
       "      <th>2220</th>\n",
       "      <td>tech</td>\n",
       "      <td>BT program to beat dialler scams</td>\n",
       "      <td>BT is introducing two initiatives to help bea...</td>\n",
       "    </tr>\n",
       "    <tr>\n",
       "      <th>2221</th>\n",
       "      <td>tech</td>\n",
       "      <td>Spam e-mails tempt net shoppers</td>\n",
       "      <td>Computer users across the world continue to i...</td>\n",
       "    </tr>\n",
       "    <tr>\n",
       "      <th>2222</th>\n",
       "      <td>tech</td>\n",
       "      <td>Be careful how you code</td>\n",
       "      <td>A new European directive could put software w...</td>\n",
       "    </tr>\n",
       "    <tr>\n",
       "      <th>2223</th>\n",
       "      <td>tech</td>\n",
       "      <td>US cyber security chief resigns</td>\n",
       "      <td>The man making sure US computer networks are ...</td>\n",
       "    </tr>\n",
       "    <tr>\n",
       "      <th>2224</th>\n",
       "      <td>tech</td>\n",
       "      <td>Losing yourself in online gaming</td>\n",
       "      <td>Online role playing games are time-consuming,...</td>\n",
       "    </tr>\n",
       "  </tbody>\n",
       "</table>\n",
       "<p>2225 rows × 3 columns</p>\n",
       "</div>"
      ],
      "text/plain": [
       "      category                              title  \\\n",
       "0     business  Ad sales boost Time Warner profit   \n",
       "1     business   Dollar gains on Greenspan speech   \n",
       "2     business  Yukos unit buyer faces loan claim   \n",
       "3     business  High fuel prices hit BA's profits   \n",
       "4     business  Pernod takeover talk lifts Domecq   \n",
       "...        ...                                ...   \n",
       "2220      tech   BT program to beat dialler scams   \n",
       "2221      tech    Spam e-mails tempt net shoppers   \n",
       "2222      tech            Be careful how you code   \n",
       "2223      tech    US cyber security chief resigns   \n",
       "2224      tech   Losing yourself in online gaming   \n",
       "\n",
       "                                                content  \n",
       "0      Quarterly profits at US media giant TimeWarne...  \n",
       "1      The dollar has hit its highest level against ...  \n",
       "2      The owners of embattled Russian oil giant Yuk...  \n",
       "3      British Airways has blamed high fuel prices f...  \n",
       "4      Shares in UK drinks and food firm Allied Dome...  \n",
       "...                                                 ...  \n",
       "2220   BT is introducing two initiatives to help bea...  \n",
       "2221   Computer users across the world continue to i...  \n",
       "2222   A new European directive could put software w...  \n",
       "2223   The man making sure US computer networks are ...  \n",
       "2224   Online role playing games are time-consuming,...  \n",
       "\n",
       "[2225 rows x 3 columns]"
      ]
     },
     "execution_count": 92,
     "metadata": {},
     "output_type": "execute_result"
    }
   ],
   "source": [
    "# menghapus data filename kerena tidak digunakan\n",
    "df = df.drop(columns=['filename'])\n",
    "df"
   ]
  },
  {
   "cell_type": "code",
   "execution_count": 93,
   "metadata": {},
   "outputs": [
    {
     "data": {
      "image/png": "[encoded data removed]",
      "text/plain": [
       "<Figure size 640x480 with 1 Axes>"
      ]
     },
     "metadata": {},
     "output_type": "display_data"
    }
   ],
   "source": [
    "import matplotlib.pyplot as plt\n",
    "\n",
    "X = plot_categoty.keys()\n",
    "Y = plot_categoty.values\n",
    "\n",
    "plt.bar(X, Y)\n",
    "plt.ylabel('jumlah data')\n",
    "plt.xlabel('Category')\n",
    "plt.title('DATA NEWS')\n",
    "plt.show()"
   ]
  },
  {
   "cell_type": "code",
   "execution_count": 94,
   "metadata": {},
   "outputs": [
    {
     "data": {
      "text/plain": [
       "2225"
      ]
     },
     "execution_count": 94,
     "metadata": {},
     "output_type": "execute_result"
    }
   ],
   "source": [
    "# melihat jumlah title\n",
    "df.title.count()"
   ]
  },
  {
   "cell_type": "code",
   "execution_count": 95,
   "metadata": {},
   "outputs": [
    {
     "data": {
      "text/html": [
       "<div>\n",
       "<style scoped>\n",
       "    .dataframe tbody tr th:only-of-type {\n",
       "        vertical-align: middle;\n",
       "    }\n",
       "\n",
       "    .dataframe tbody tr th {\n",
       "        vertical-align: top;\n",
       "    }\n",
       "\n",
       "    .dataframe thead th {\n",
       "        text-align: right;\n",
       "    }\n",
       "</style>\n",
       "<table border=\"1\" class=\"dataframe\">\n",
       "  <thead>\n",
       "    <tr style=\"text-align: right;\">\n",
       "      <th></th>\n",
       "      <th>category</th>\n",
       "      <th>title</th>\n",
       "      <th>content</th>\n",
       "      <th>text</th>\n",
       "    </tr>\n",
       "  </thead>\n",
       "  <tbody>\n",
       "    <tr>\n",
       "      <th>0</th>\n",
       "      <td>business</td>\n",
       "      <td>Ad sales boost Time Warner profit</td>\n",
       "      <td>Quarterly profits at US media giant TimeWarne...</td>\n",
       "      <td>Ad sales boost Time Warner profit  Quarterly p...</td>\n",
       "    </tr>\n",
       "    <tr>\n",
       "      <th>1</th>\n",
       "      <td>business</td>\n",
       "      <td>Dollar gains on Greenspan speech</td>\n",
       "      <td>The dollar has hit its highest level against ...</td>\n",
       "      <td>Dollar gains on Greenspan speech  The dollar h...</td>\n",
       "    </tr>\n",
       "    <tr>\n",
       "      <th>2</th>\n",
       "      <td>business</td>\n",
       "      <td>Yukos unit buyer faces loan claim</td>\n",
       "      <td>The owners of embattled Russian oil giant Yuk...</td>\n",
       "      <td>Yukos unit buyer faces loan claim  The owners ...</td>\n",
       "    </tr>\n",
       "    <tr>\n",
       "      <th>3</th>\n",
       "      <td>business</td>\n",
       "      <td>High fuel prices hit BA's profits</td>\n",
       "      <td>British Airways has blamed high fuel prices f...</td>\n",
       "      <td>High fuel prices hit BA's profits  British Air...</td>\n",
       "    </tr>\n",
       "    <tr>\n",
       "      <th>4</th>\n",
       "      <td>business</td>\n",
       "      <td>Pernod takeover talk lifts Domecq</td>\n",
       "      <td>Shares in UK drinks and food firm Allied Dome...</td>\n",
       "      <td>Pernod takeover talk lifts Domecq  Shares in U...</td>\n",
       "    </tr>\n",
       "    <tr>\n",
       "      <th>...</th>\n",
       "      <td>...</td>\n",
       "      <td>...</td>\n",
       "      <td>...</td>\n",
       "      <td>...</td>\n",
       "    </tr>\n",
       "    <tr>\n",
       "      <th>2220</th>\n",
       "      <td>tech</td>\n",
       "      <td>BT program to beat dialler scams</td>\n",
       "      <td>BT is introducing two initiatives to help bea...</td>\n",
       "      <td>BT program to beat dialler scams  BT is introd...</td>\n",
       "    </tr>\n",
       "    <tr>\n",
       "      <th>2221</th>\n",
       "      <td>tech</td>\n",
       "      <td>Spam e-mails tempt net shoppers</td>\n",
       "      <td>Computer users across the world continue to i...</td>\n",
       "      <td>Spam e-mails tempt net shoppers  Computer user...</td>\n",
       "    </tr>\n",
       "    <tr>\n",
       "      <th>2222</th>\n",
       "      <td>tech</td>\n",
       "      <td>Be careful how you code</td>\n",
       "      <td>A new European directive could put software w...</td>\n",
       "      <td>Be careful how you code  A new European direct...</td>\n",
       "    </tr>\n",
       "    <tr>\n",
       "      <th>2223</th>\n",
       "      <td>tech</td>\n",
       "      <td>US cyber security chief resigns</td>\n",
       "      <td>The man making sure US computer networks are ...</td>\n",
       "      <td>US cyber security chief resigns  The man makin...</td>\n",
       "    </tr>\n",
       "    <tr>\n",
       "      <th>2224</th>\n",
       "      <td>tech</td>\n",
       "      <td>Losing yourself in online gaming</td>\n",
       "      <td>Online role playing games are time-consuming,...</td>\n",
       "      <td>Losing yourself in online gaming  Online role ...</td>\n",
       "    </tr>\n",
       "  </tbody>\n",
       "</table>\n",
       "<p>2225 rows × 4 columns</p>\n",
       "</div>"
      ],
      "text/plain": [
       "      category                              title  \\\n",
       "0     business  Ad sales boost Time Warner profit   \n",
       "1     business   Dollar gains on Greenspan speech   \n",
       "2     business  Yukos unit buyer faces loan claim   \n",
       "3     business  High fuel prices hit BA's profits   \n",
       "4     business  Pernod takeover talk lifts Domecq   \n",
       "...        ...                                ...   \n",
       "2220      tech   BT program to beat dialler scams   \n",
       "2221      tech    Spam e-mails tempt net shoppers   \n",
       "2222      tech            Be careful how you code   \n",
       "2223      tech    US cyber security chief resigns   \n",
       "2224      tech   Losing yourself in online gaming   \n",
       "\n",
       "                                                content  \\\n",
       "0      Quarterly profits at US media giant TimeWarne...   \n",
       "1      The dollar has hit its highest level against ...   \n",
       "2      The owners of embattled Russian oil giant Yuk...   \n",
       "3      British Airways has blamed high fuel prices f...   \n",
       "4      Shares in UK drinks and food firm Allied Dome...   \n",
       "...                                                 ...   \n",
       "2220   BT is introducing two initiatives to help bea...   \n",
       "2221   Computer users across the world continue to i...   \n",
       "2222   A new European directive could put software w...   \n",
       "2223   The man making sure US computer networks are ...   \n",
       "2224   Online role playing games are time-consuming,...   \n",
       "\n",
       "                                                   text  \n",
       "0     Ad sales boost Time Warner profit  Quarterly p...  \n",
       "1     Dollar gains on Greenspan speech  The dollar h...  \n",
       "2     Yukos unit buyer faces loan claim  The owners ...  \n",
       "3     High fuel prices hit BA's profits  British Air...  \n",
       "4     Pernod takeover talk lifts Domecq  Shares in U...  \n",
       "...                                                 ...  \n",
       "2220  BT program to beat dialler scams  BT is introd...  \n",
       "2221  Spam e-mails tempt net shoppers  Computer user...  \n",
       "2222  Be careful how you code  A new European direct...  \n",
       "2223  US cyber security chief resigns  The man makin...  \n",
       "2224  Losing yourself in online gaming  Online role ...  \n",
       "\n",
       "[2225 rows x 4 columns]"
      ]
     },
     "execution_count": 95,
     "metadata": {},
     "output_type": "execute_result"
    }
   ],
   "source": [
    "# concat colom dan title\n",
    "df['text'] = df['title'] + ' ' + df['content']\n",
    "df"
   ]
  },
  {
   "cell_type": "markdown",
   "metadata": {},
   "source": [
    "## Data Cleaning"
   ]
  },
  {
   "cell_type": "code",
   "execution_count": 96,
   "metadata": {},
   "outputs": [
    {
     "name": "stderr",
     "output_type": "stream",
     "text": [
      "[nltk_data] Downloading package stopwords to C:\\Users\\Roby\n",
      "[nltk_data]     PC\\AppData\\Roaming\\nltk_data...\n",
      "[nltk_data]   Package stopwords is already up-to-date!\n"
     ]
    },
    {
     "data": {
      "text/plain": [
       "True"
      ]
     },
     "execution_count": 96,
     "metadata": {},
     "output_type": "execute_result"
    }
   ],
   "source": [
    "from nltk.corpus import stopwords\n",
    "from nltk.tokenize import word_tokenize,sent_tokenize\n",
    "from bs4 import BeautifulSoup\n",
    "import re,string,unicodedata\n",
    "from sklearn.metrics import classification_report,confusion_matrix,accuracy_score\n",
    "from sklearn.model_selection import train_test_split\n",
    "from string import punctuation\n",
    "from nltk import pos_tag\n",
    "from nltk.corpus import wordnet\n",
    "import keras\n",
    "from keras.preprocessing import text, sequence\n",
    "import nltk\n",
    "nltk.download('stopwords')"
   ]
  },
  {
   "cell_type": "code",
   "execution_count": 97,
   "metadata": {},
   "outputs": [],
   "source": [
    "# menghapus kata-kata umum yang sering munul\n",
    "stwd = set(stopwords.words('english'))\n",
    "punctuation = list(string.punctuation)\n",
    "stwd.update(punctuation)"
   ]
  },
  {
   "cell_type": "code",
   "execution_count": 98,
   "metadata": {},
   "outputs": [],
   "source": [
    "# data cleaning\n",
    "def strip_html(text):\n",
    "    soup = BeautifulSoup(text, \"html.parser\")\n",
    "    return soup.get_text()\n",
    "\n",
    "#hapus square brackets\n",
    "def remove_between_square_brackets(text):\n",
    "    return re.sub('\\[[^]]*\\]', '', text)\n",
    "#hapus URL's\n",
    "def remove_url(text):\n",
    "    return re.sub(r'http\\S+', '', text)\n",
    "#hapus stopwords dari text\n",
    "def remove_stopwords(text):\n",
    "    final_text = []\n",
    "    for i in text.split():\n",
    "        if i.strip().lower() not in stwd:\n",
    "            final_text.append(i.strip())\n",
    "    return \" \".join(final_text)\n",
    "#hapus noisy text\n",
    "def denoise_text(text):\n",
    "    text = strip_html(text)\n",
    "    text = remove_between_square_brackets(text)\n",
    "    text = remove_url(text)\n",
    "    text = remove_stopwords(text)\n",
    "    return text\n",
    "#Apply function on review column\n",
    "df['text']=df['text'].apply(denoise_text)"
   ]
  },
  {
   "cell_type": "code",
   "execution_count": 99,
   "metadata": {},
   "outputs": [
    {
     "data": {
      "text/plain": [
       "['Ad',\n",
       " 'sales',\n",
       " 'boost',\n",
       " 'Time',\n",
       " 'Warner',\n",
       " 'profit',\n",
       " 'Quarterly',\n",
       " 'profits',\n",
       " 'US',\n",
       " 'media']"
      ]
     },
     "execution_count": 99,
     "metadata": {},
     "output_type": "execute_result"
    }
   ],
   "source": [
    "# jumlah kata\n",
    "\n",
    "def get_corpus(text):\n",
    "    words = []\n",
    "    for i in text:\n",
    "        for j in i.split():\n",
    "            words.append(j.strip())\n",
    "    return words\n",
    "corpus = get_corpus(df.text)\n",
    "corpus[:10]"
   ]
  },
  {
   "cell_type": "code",
   "execution_count": 100,
   "metadata": {},
   "outputs": [
    {
     "data": {
      "text/plain": [
       "{'said': 4899,\n",
       " 'Mr': 2979,\n",
       " 'would': 2555,\n",
       " 'also': 2098,\n",
       " 'people': 1695,\n",
       " 'said.': 1499,\n",
       " 'could': 1494,\n",
       " 'new': 1490,\n",
       " 'one': 1376,\n",
       " 'US': 1346}"
      ]
     },
     "execution_count": 100,
     "metadata": {},
     "output_type": "execute_result"
    }
   ],
   "source": [
    "#jumlah kata yang banyak ditemukan\n",
    "from collections import Counter\n",
    "counter = Counter(corpus)\n",
    "most_common = counter.most_common(10)\n",
    "most_common = dict(most_common)\n",
    "most_common"
   ]
  },
  {
   "cell_type": "code",
   "execution_count": 101,
   "metadata": {},
   "outputs": [],
   "source": [
    "from sklearn.feature_extraction.text import CountVectorizer\n",
    "def get_top_text_ngrams(corpus, n, g):\n",
    "    cv = CountVectorizer(ngram_range=(g, g)).fit(corpus)\n",
    "    bag_words = cv.transform(corpus)\n",
    "    sum_words = bag_words.sum(axis=0) \n",
    "    words_freq = [(word, sum_words[0, idx]) for word, idx in cv.vocabulary_.items()]\n",
    "    words_freq =sorted(words_freq, key = lambda x: x[1], reverse=True)\n",
    "    return words_freq[:n]"
   ]
  },
  {
   "cell_type": "code",
   "execution_count": 102,
   "metadata": {},
   "outputs": [
    {
     "data": {
      "text/plain": [
       "<AxesSubplot: >"
      ]
     },
     "execution_count": 102,
     "metadata": {},
     "output_type": "execute_result"
    },
    {
     "data": {
      "image/png": "[encoded data removed]",
      "text/plain": [
       "<Figure size 1600x900 with 1 Axes>"
      ]
     },
     "metadata": {},
     "output_type": "display_data"
    }
   ],
   "source": [
    "# ploting\n",
    "import seaborn as sns\n",
    "plt.figure(figsize = (16,9))\n",
    "most_common = get_top_text_ngrams(df.text,10,1)\n",
    "most_common = dict(most_common)\n",
    "sns.barplot(x=list(most_common.values()),y=list(most_common.keys()))\n"
   ]
  },
  {
   "cell_type": "code",
   "execution_count": 103,
   "metadata": {},
   "outputs": [
    {
     "data": {
      "text/html": [
       "<div>\n",
       "<style scoped>\n",
       "    .dataframe tbody tr th:only-of-type {\n",
       "        vertical-align: middle;\n",
       "    }\n",
       "\n",
       "    .dataframe tbody tr th {\n",
       "        vertical-align: top;\n",
       "    }\n",
       "\n",
       "    .dataframe thead th {\n",
       "        text-align: right;\n",
       "    }\n",
       "</style>\n",
       "<table border=\"1\" class=\"dataframe\">\n",
       "  <thead>\n",
       "    <tr style=\"text-align: right;\">\n",
       "      <th></th>\n",
       "      <th>title</th>\n",
       "      <th>content</th>\n",
       "      <th>text</th>\n",
       "      <th>business</th>\n",
       "      <th>entertainment</th>\n",
       "      <th>politics</th>\n",
       "      <th>sport</th>\n",
       "      <th>tech</th>\n",
       "    </tr>\n",
       "  </thead>\n",
       "  <tbody>\n",
       "    <tr>\n",
       "      <th>0</th>\n",
       "      <td>Ad sales boost Time Warner profit</td>\n",
       "      <td>Quarterly profits at US media giant TimeWarne...</td>\n",
       "      <td>Ad sales boost Time Warner profit Quarterly pr...</td>\n",
       "      <td>1</td>\n",
       "      <td>0</td>\n",
       "      <td>0</td>\n",
       "      <td>0</td>\n",
       "      <td>0</td>\n",
       "    </tr>\n",
       "    <tr>\n",
       "      <th>1</th>\n",
       "      <td>Dollar gains on Greenspan speech</td>\n",
       "      <td>The dollar has hit its highest level against ...</td>\n",
       "      <td>Dollar gains Greenspan speech dollar hit highe...</td>\n",
       "      <td>1</td>\n",
       "      <td>0</td>\n",
       "      <td>0</td>\n",
       "      <td>0</td>\n",
       "      <td>0</td>\n",
       "    </tr>\n",
       "    <tr>\n",
       "      <th>2</th>\n",
       "      <td>Yukos unit buyer faces loan claim</td>\n",
       "      <td>The owners of embattled Russian oil giant Yuk...</td>\n",
       "      <td>Yukos unit buyer faces loan claim owners embat...</td>\n",
       "      <td>1</td>\n",
       "      <td>0</td>\n",
       "      <td>0</td>\n",
       "      <td>0</td>\n",
       "      <td>0</td>\n",
       "    </tr>\n",
       "    <tr>\n",
       "      <th>3</th>\n",
       "      <td>High fuel prices hit BA's profits</td>\n",
       "      <td>British Airways has blamed high fuel prices f...</td>\n",
       "      <td>High fuel prices hit BA's profits British Airw...</td>\n",
       "      <td>1</td>\n",
       "      <td>0</td>\n",
       "      <td>0</td>\n",
       "      <td>0</td>\n",
       "      <td>0</td>\n",
       "    </tr>\n",
       "    <tr>\n",
       "      <th>4</th>\n",
       "      <td>Pernod takeover talk lifts Domecq</td>\n",
       "      <td>Shares in UK drinks and food firm Allied Dome...</td>\n",
       "      <td>Pernod takeover talk lifts Domecq Shares UK dr...</td>\n",
       "      <td>1</td>\n",
       "      <td>0</td>\n",
       "      <td>0</td>\n",
       "      <td>0</td>\n",
       "      <td>0</td>\n",
       "    </tr>\n",
       "    <tr>\n",
       "      <th>5</th>\n",
       "      <td>Japan narrowly escapes recession</td>\n",
       "      <td>Japan's economy teetered on the brink of a te...</td>\n",
       "      <td>Japan narrowly escapes recession Japan's econo...</td>\n",
       "      <td>1</td>\n",
       "      <td>0</td>\n",
       "      <td>0</td>\n",
       "      <td>0</td>\n",
       "      <td>0</td>\n",
       "    </tr>\n",
       "    <tr>\n",
       "      <th>6</th>\n",
       "      <td>Jobs growth still slow in the US</td>\n",
       "      <td>The US created fewer jobs than expected in Ja...</td>\n",
       "      <td>Jobs growth still slow US US created fewer job...</td>\n",
       "      <td>1</td>\n",
       "      <td>0</td>\n",
       "      <td>0</td>\n",
       "      <td>0</td>\n",
       "      <td>0</td>\n",
       "    </tr>\n",
       "    <tr>\n",
       "      <th>7</th>\n",
       "      <td>India calls for fair trade rules</td>\n",
       "      <td>India, which attends the G7 meeting of seven ...</td>\n",
       "      <td>India calls fair trade rules India, attends G7...</td>\n",
       "      <td>1</td>\n",
       "      <td>0</td>\n",
       "      <td>0</td>\n",
       "      <td>0</td>\n",
       "      <td>0</td>\n",
       "    </tr>\n",
       "    <tr>\n",
       "      <th>8</th>\n",
       "      <td>Ethiopia's crop production up 24%</td>\n",
       "      <td>Ethiopia produced 14.27 million tonnes of cro...</td>\n",
       "      <td>Ethiopia's crop production 24% Ethiopia produc...</td>\n",
       "      <td>1</td>\n",
       "      <td>0</td>\n",
       "      <td>0</td>\n",
       "      <td>0</td>\n",
       "      <td>0</td>\n",
       "    </tr>\n",
       "    <tr>\n",
       "      <th>9</th>\n",
       "      <td>Court rejects $280bn tobacco case</td>\n",
       "      <td>A US government claim accusing the country's ...</td>\n",
       "      <td>Court rejects $280bn tobacco case US governmen...</td>\n",
       "      <td>1</td>\n",
       "      <td>0</td>\n",
       "      <td>0</td>\n",
       "      <td>0</td>\n",
       "      <td>0</td>\n",
       "    </tr>\n",
       "  </tbody>\n",
       "</table>\n",
       "</div>"
      ],
      "text/plain": [
       "                               title  \\\n",
       "0  Ad sales boost Time Warner profit   \n",
       "1   Dollar gains on Greenspan speech   \n",
       "2  Yukos unit buyer faces loan claim   \n",
       "3  High fuel prices hit BA's profits   \n",
       "4  Pernod takeover talk lifts Domecq   \n",
       "5   Japan narrowly escapes recession   \n",
       "6   Jobs growth still slow in the US   \n",
       "7   India calls for fair trade rules   \n",
       "8  Ethiopia's crop production up 24%   \n",
       "9  Court rejects $280bn tobacco case   \n",
       "\n",
       "                                             content  \\\n",
       "0   Quarterly profits at US media giant TimeWarne...   \n",
       "1   The dollar has hit its highest level against ...   \n",
       "2   The owners of embattled Russian oil giant Yuk...   \n",
       "3   British Airways has blamed high fuel prices f...   \n",
       "4   Shares in UK drinks and food firm Allied Dome...   \n",
       "5   Japan's economy teetered on the brink of a te...   \n",
       "6   The US created fewer jobs than expected in Ja...   \n",
       "7   India, which attends the G7 meeting of seven ...   \n",
       "8   Ethiopia produced 14.27 million tonnes of cro...   \n",
       "9   A US government claim accusing the country's ...   \n",
       "\n",
       "                                                text  business  entertainment  \\\n",
       "0  Ad sales boost Time Warner profit Quarterly pr...         1              0   \n",
       "1  Dollar gains Greenspan speech dollar hit highe...         1              0   \n",
       "2  Yukos unit buyer faces loan claim owners embat...         1              0   \n",
       "3  High fuel prices hit BA's profits British Airw...         1              0   \n",
       "4  Pernod takeover talk lifts Domecq Shares UK dr...         1              0   \n",
       "5  Japan narrowly escapes recession Japan's econo...         1              0   \n",
       "6  Jobs growth still slow US US created fewer job...         1              0   \n",
       "7  India calls fair trade rules India, attends G7...         1              0   \n",
       "8  Ethiopia's crop production 24% Ethiopia produc...         1              0   \n",
       "9  Court rejects $280bn tobacco case US governmen...         1              0   \n",
       "\n",
       "   politics  sport  tech  \n",
       "0         0      0     0  \n",
       "1         0      0     0  \n",
       "2         0      0     0  \n",
       "3         0      0     0  \n",
       "4         0      0     0  \n",
       "5         0      0     0  \n",
       "6         0      0     0  \n",
       "7         0      0     0  \n",
       "8         0      0     0  \n",
       "9         0      0     0  "
      ]
     },
     "execution_count": 103,
     "metadata": {},
     "output_type": "execute_result"
    }
   ],
   "source": [
    "# data category one-hot-encoding\n",
    "category = pd.get_dummies(df.category)\n",
    "df_baru = pd.concat([df, category], axis=1)\n",
    "df_baru = df_baru.drop(columns='category')\n",
    "df_baru.head(10)"
   ]
  },
  {
   "cell_type": "code",
   "execution_count": 104,
   "metadata": {},
   "outputs": [],
   "source": [
    "# memisahkan fiture dan atribut\n",
    "berita = df_baru['text'].values\n",
    "label = df_baru[['business', 'entertainment', 'politics', 'sport','tech']].values"
   ]
  },
  {
   "cell_type": "code",
   "execution_count": 105,
   "metadata": {},
   "outputs": [
    {
     "data": {
      "text/plain": [
       "array(['Ad sales boost Time Warner profit Quarterly profits US media giant TimeWarner jumped 76% $1.13bn (£600m) three months December, $639m year-earlier. firm, one biggest investors Google, benefited sales high-speed internet connections higher advert sales. TimeWarner said fourth quarter sales rose 2% $11.1bn $10.9bn. profits buoyed one-off gains offset profit dip Warner Bros, less users AOL. Time Warner said Friday owns 8% search-engine Google. internet business, AOL, mixed fortunes. lost 464,000 subscribers fourth quarter profits lower preceding three quarters. However, company said AOL\\'s underlying profit exceptional items rose 8% back stronger internet advertising revenues. hopes increase subscribers offering online service free TimeWarner internet customers try sign AOL\\'s existing customers high-speed broadband. TimeWarner also restate 2000 2003 results following probe US Securities Exchange Commission (SEC), close concluding. Time Warner\\'s fourth quarter profits slightly better analysts\\' expectations. film division saw profits slump 27% $284m, helped box-office flops Alexander Catwoman, sharp contrast year-earlier, third final film Lord Rings trilogy boosted results. full-year, TimeWarner posted profit $3.36bn, 27% 2003 performance, revenues grew 6.4% $42.09bn. \"Our financial performance strong, meeting exceeding full-year objectives greatly enhancing flexibility,\" chairman chief executive Richard Parsons said. 2005, TimeWarner projecting operating earnings growth around 5%, also expects higher revenue wider profit margins. TimeWarner restate accounts part efforts resolve inquiry AOL US market regulators. already offered pay $300m settle charges, deal review SEC. company said unable estimate amount needed set aside legal reserves, previously set $500m. intends adjust way accounts deal German music publisher Bertelsmann\\'s purchase stake AOL Europe, reported advertising revenue. book sale stake AOL Europe loss value stake.',\n",
       "       'Dollar gains Greenspan speech dollar hit highest level euro almost three months Federal Reserve head said US trade deficit set stabilise. Alan Greenspan highlighted US government\\'s willingness curb spending rising household savings factors may help reduce it. late trading New York, dollar reached $1.2871 euro, $1.2974 Thursday. Market concerns deficit hit greenback recent months. Friday, Federal Reserve chairman Mr Greenspan\\'s speech London ahead meeting G7 finance ministers sent dollar higher earlier tumbled back worse-than-expected US jobs data. \"I think chairman\\'s taking much sanguine view current account deficit he\\'s taken time,\" said Robert Sinche, head currency strategy Bank America New York. \"He\\'s taking longer-term view, laying set conditions current account deficit improve year next.\" Worries deficit concerns China do, however, remain. China\\'s currency remains pegged dollar US currency\\'s sharp falls recent months therefore made Chinese export prices highly competitive. calls shift Beijing\\'s policy fallen deaf ears, despite recent comments major Chinese newspaper \"time ripe\" loosening peg. G7 meeting thought unlikely produce meaningful movement Chinese policy. meantime, US Federal Reserve\\'s decision 2 February boost interest rates quarter point sixth move many months opened differential European rates. half-point window, believe, could enough keep US assets looking attractive, could help prop dollar. recent falls partly result big budget deficits, well US\\'s yawning current account gap, need funded buying US bonds assets foreign firms governments. White House announce budget Monday, many commentators believe deficit remain close half trillion dollars.',\n",
       "       'Yukos unit buyer faces loan claim owners embattled Russian oil giant Yukos ask buyer former production unit pay back $900m (£479m) loan. State-owned Rosneft bought Yugansk unit $9.3bn sale forced Russia part settle $27.5bn tax claim Yukos. Yukos\\' owner Menatep Group says ask Rosneft repay loan Yugansk secured assets. Rosneft already faces similar $540m repayment demand foreign banks. Legal experts said Rosneft\\'s purchase Yugansk would include obligations. \"The pledged assets Rosneft, pay real money creditors avoid seizure Yugansk assets,\" said Moscow-based US lawyer Jamie Firestone, connected case. Menatep Group\\'s managing director Tim Osborne told Reuters news agency: \"If default, fight rule law exists international arbitration clauses credit.\" Rosneft officials unavailable comment. company said intends take action Menatep recover tax claims debts owed Yugansk. Yukos filed bankruptcy protection US court attempt prevent forced sale main production arm. sale went ahead December Yugansk sold little-known shell company turn bought Rosneft. Yukos claims downfall punishment political ambitions founder Mikhail Khodorkovsky vowed sue participant sale.',\n",
       "       ...,\n",
       "       'careful code new European directive could put software writers risk legal action, warns former programmer technology analyst Bill Thompson. gets way, Dutch government conclude presidency European Union pushing controversial measure rejected European Parliament, lacks majority support national governments leave millions European citizens legal limbo facing possibility court cases them. new law border controls, defence even new constitution, TV screens would full experts agonising impact daily lives. Sadly directly affected, controversy concerns patenting computer programs, topic may excite bloggers, campaigning groups technical press obsess Middle Britain. all, much fuss generate Directive Patentability Computer-Implemented Inventions, way amends Article 52 1973 European Patent Convention? Yet new directive nodded next meeting one EU\\'s ministerial councils, seems likely, allow programs patented Europe US. Many observers computing scene, including myself, think results disastrous small companies, innovative programmers free open source software movement. let large companies patent sorts ideas give legal force want limit competitors\\' use really obvious ideas. US cannot build system stores customer credit card details pay without re-enter unless Amazon lets you, hold patent \"one-click\" online purchase. small invention, Amazon made patent office first owns it. relatively free sort thing here, perhaps long. new proposals go back 2002, although argument patentability software computer-implemented inventions going since least mid-1980s. come head year proposals made, endorsed Council Ministers, radically modified European Parliament re-presented original form. national governments seem aware problems. Poland rejected proposal Germany\\'s main political parties opposed it, enough opposition guarantee rejection. Early December British government held consultation meeting commented proposals. Science Minister Lord Sainsbury went along listen outline UK position, according present, embarrassing see little minister officials actually understood issues concerned. draft Directive put council called \"A\" item approved rejected. discussion amendment allowed. worried? First, abuse democratic process involved disregarding views parliament abandoning carefully argued amendments. goes heart European project, even care software patents worried. coders treated like today, say tomorrow? directly, software patents granted programmer worry code writing infringing someone else\\'s patent. stealing software, code already protected copyright. Patents copyright, something much stronger. patent gives owner right stop anyone else using invention, even person invented separately. never, shame, managed read Lord Byron\\'s Childe Harold\\'s Pilgrimage. pointed one articles contained substantial chunk poem could defend court claiming simply made coincidence. hold patent. sit afternoon write brilliant graphics compression routine happens LZW algorithm used GIF files, trouble patent law, least US. Coincidence defence. proposed directive supported many major software companies, hardly surprising since US-based already cope legal environment allows patents. legal departments and, crucially, patents trade cross-license patent holders. Even system breaks down, course, Microsoft found last year initially lost case brought Eolas claimed Internet Explorer (and browsers) infringed Eolas patent. one eventually thrown out, months uncertainty millions dollars. small companies, free open software movement patents trade. Much really useful software use every day, programs like Apache web server, GNU/Linux operating system fearsomely popular Firefox browser, developed outside company structures people legal departments check patent infringements. damage software happen overnight, course. directive goes written national laws steady stream legal actions small companies open source products. Eventually someone decide attack Linux directly, probably secret funding one two large players. new directive limit innovation forcing programmers spend time checking patent infringements simply avoiding working potentially competitive areas. damage Europe\\'s computer industry. hope Council Ministers integrity strength reject bad law. Bill Thompson regular commentator BBC World Service programme Go Digital.',\n",
       "       'US cyber security chief resigns man making sure US computer networks safe secure resigned year post. Amit Yoran director National Cyber Security Division within US Department Homeland Security created following 9/11 attacks. division tasked improving US defences malicious hackers, viruses net-based threats. Reports suggest left division given enough clout within larger organisation. Mr Yoran took post September 2003 first task get Cyber Security Division running. organisation staff 60 people budget $80m (£44.54m). division charged thinking carrying action make US networks impervious attack disruption viruses, worms hack attacks become commonplace. last 12 months Mr Yoran oversaw creation cyber alert system sends warnings big hitting viruses net attacks occur. warnings also contained information firms organisations could protect attacks. Cyber Security Division also audited US government networks discover exactly sitting network. next step creation scanning system identify vulnerabilities made federal networks machines susceptible attack malicious hackers virus writers. Mr Yoran\\'s division also work identify networks machines broken cyber criminals. Despite success Mr Yoran left post abruptly end last week, reportedly giving one day\\'s notice bosses Department Homeland Security. \"Amit Yoran valuable contributor cyber security issues past year, appreciate efforts starting department\\'s cybersecurity program,\" said Department Homeland Security spokeswoman. reports suggested Mr Yoran felt frustrated lack prominence given work protect net-based threats wider homeland organisation. attempt US politicians pass law promote Mr Yoran raise profile department\\'s work mired Congress.',\n",
       "       'Losing online gaming Online role playing games time-consuming, enthralling flights reality. people taking fantasy lives seriously? video game World Warcraft hit shops Europe last week fans wrote BBC website express delight offer warning. \"An addiction game like far costly time substance could impair keep track time,\" wrote Travis Anderson, Texas. comments humorous: \"This game good I\\'m going get it, there\\'s way could limit hours I\\'d spend playing it,\" wrote Charles MacIntyre, England. struck worrying tone Massively Multiplayer Online Role Playing Game (MMORPG): \"\\'You need get more\\' could motto MMORPG. Shame getting popular, know problem going mushroom,\" wrote Stuart Stanton-Davies, Huddersfield. Scare-mongering articles \"addictive video games\" existed since days first game Pong stopped everyone working Atari offices. Gaming like pastime quickly become unhealthy obsession, whether spending much time gym, front television, reading poetry. Unfortunately, gaming addiction far easy association make. However, stories gamers spending 10 15 hours day front video games becoming frequent. impact families quite distressing some. Massively multiplayer online role playing games MMORPGs allow thousands gamers share common experience sharing fantasy science fiction worlds. scope games like Warcraft, EverQuest, Ultima among others epic, exploration adventure almost infinite. Part \"problem\" grinding gamers perform long-winded, mindless tasks, bring levels gain access adventure. open-endedness brings desire keep playing; reason EverQuest (EQ) nicknamed EverCrack. E Hayot, writing culture blogzine Print Culture, said recently: \"I used play online role-playing game EverQuest lot. \"By \\'a lot\\', mean probably 15 20 hours week average, weeks work, many 30 40 hours.\" says world online gaming behaviour \"wasn\\'t unusual; lots people knew game played EQ much\". \"You lie; go work \"had stuff home\"; cancel refuse invitations dinner, spend much less time watching TV (a good thing, presumably),\" wrote, explaining EverQuest took time. quit game, says, realised life fun EverQuest. Let us clear obsession rare. huge growth online gaming means growth numbers people take passion hobby far. Almost 400,000 people bought copy World Warcraft first two days sale earlier month. fraction descend obsessives. thoughts families friends gamers affected EverQuest found one blog EverQuest Daily Grind. Jane, runs website, compiles chronicle heart-rending stories. \"I actually convinced point \\'some\\' people spend times MMOPRGs reality,\" said. One unnamed correspondent anonymous wrote: \"On rare nights husband come bed time do, find used sleeping difficult get sleep another body laying next me. \"I can\\'t talk playing. absolutely point hear distracted get \\'ummm... ya\\' minutes ask question.\" \"Gaming widows\" become comedic term women shut male gamers. least funny. Another correspondent wrote: \"I believe addicted online gaming, cause depression restlessness.\" even sadder: \"Today son five days old. \"The sad truth husband spent 11 hours today playing Warcraft game. interact sweet tiny baby important quests waiting online.\" Video game fans often complain hobby misunderstood marginalised. gaming becomes ever mainstream, games ever immersive, hiding place social problems. wish 30-40 hours week unusual think probably isn\\'t. 11 hour stretch surprising I\\'ve known people play 15+ hours stretch. know people spending week\\'s holiday work playing Warcraft. know people would play Ever shifts...waking 3am take friends resume waiting item \\'needed\\' appear. understand key sign addiction alter life around rather fit life. standards many us addicts. solution force stop playing..or need make real life bit interesting? Sadly talk people becoming obsessed gaming, find longing time join them. long term relationship 4 years since began, games become complex. find less less time play them, marriage work main drag time. think line playing game lot gaming addiction really quite distinct. play games lot, definately 20 hours week, go missing work commitments order play games. have, year ago, deleted every game computer. RPGs worst real world fades worries sorround new magic staff mighty sword. Unlike books, perhaps even TV, gain absolutely nothing. stop playing point started; achievements 10 hour session irretrievably locked game and, since gained nothing real world, may well pile achievement fake one. Despite little monetary value, \"rewards\" encouragement offered MMORPGs enough hook games hours daily. business could learn leverage simply human need easily measurable progress recognition. Perhaps unhealthily obsessed simply need recognition achievements reality? advice gaming widows \"if can\\'t beat \\'em, join \\'em\". is, try playing yourself. wants play well, well least together somewhere... addict cost relationship. still play now, without guilt hehe, long played one sitting? morning till early hours next day, birds singing side hobble bath room cos bladder full pain, would hardly eat, perhaps toast, smoke endlessly drink. Now, thankfully fascination worn girlfriend still job. part online gaming give adiction illusory achievement, end sight keep going mirage ultimate. Obsessive behaviour is, course, always cause concern, always bothers articles gaming talk terms \"reality\". Obviously, somebody spends thirty hours week playing EverQuest problem. problem, however, nothing dysfunctional sense reality. obsessive EQ player consider game \"real\" example obsessive automotive tinkerer considers car human. MMORPGs unique danger, terms encouraging obsessive behaviour, create absorbing virtual world, rather easily accessed 24/7. problem lie nature gaming, nature modern 24 hour culture. problem called MMORPGS never really complete them, there\\'s always another quest do. friends 10 hours sleep since released friday... Championship Manager consumed life years. One particular session started 2pm Sunday, paused brief sleep 5am Monday visit University classes restarted midday another 10 hour session. people tend hark problems \"hardcore gaming\" seem rarely allowed become immersed game. would expect perspective change that. used EverQuest addict college. came point gaming world felt real real one. failed alot courses able barely graduate. lucky came senses did, others less fortunate dropped college. holding job, avoid online RPGS like plague. made redundant told partner new job three months whilst every day played EverQuest 7:30am till 5:pm. came home pretended got well, hence justifying playing evening. since quit playing MMORPG good job. got point eating dinner front PC realised things getting silly I\\'m trying spend much time there. easy. feel I\\'ve got real addiction going here. problem love complete goal. completed it, finished, time move on. become obsessed complete goal, standpoint addiction. game never complete \"ultimate\" goal, well would like falling black pit. easier escape controlled fantasy world face reality times words goal offered PC game \"easier\" fun real world. Pretty scary implications think it. can\\'t buy World Warcraft would destroy marrage, know it!! played Star Wars Galaxies year attest addictiveness games. engineered way early game progress quickly, progress becomes exponentially slower, requiring time reach next level. I\\'m sad say peak addiction spending entire weekends front monitor, slowly building character, stopping food toilet breaks. Thankfully made clean break, actually managed sell Jedi account £800 sanity check otherwise completely unproductive time vacuum. Seven years ago, began playing Ultima Online. game dominated 2 years life. 2 wonderful years still vivid memories experiences friends had. Online gaming world escapism without fear thoughts others. Something cannot always achieved day day running normal life. Whilst would warn people giving much life games, believe better way spend time say watching TV. Gaming addictive made recognised addiction. single used play upto eight hours night work every night year, building stats, completing evermore quests battling ogres. somehow found time get out, even met someone got married! life changed? Hell no! still cast spells battle till early hours morning. fun! Online gaming enjoyed much would enjoy watching television, going cinema pub mates. Many people use recreational drugs occasional basis able lead succesfull lives families, relationships good careers. minority allow drugs take destroy lives become addicted. According article true MMORPGs. message government clear, either legalise drugs, outlaw online gaming!! Sounds like sad stories believe all. play alot Warcraft myself, know full well addictive is. resolute take life. certainly gets way though. think people simply know draw line, lack willpower stop stepping it. think I\\'m obsessed gaming general, spend far much time playing games like Everquest 2 Football Manager rather going interacting real people try to, I\\'m always thinking back mind I\\'d rather front computer winning league Cambridge United. obsessed online role playing games. much quests adrenaline real life situation goals achieve etc. spend five hours per day online playing rarely get four five hours sleep getting work next morning... many players spend time MMORPGs rather front TV fail see affect players social lives negatively. Furthermore types games contain huge social aspect, whereas games pursuits (such couch potato) players could indulging solitary nature. games like things -- much anything bad thing, long walk away computer things too, great fun. Living Korea moment, lots PC Bangs (Internet Cafes). Nearly South Koreans addicted online games, one Korean died lack food water playing online games. play xbox live every day. find self lying rescheduling everything around gaming fix. longest played 24 hour straight session. know play long obsession can\\'t control. reccomend counsellor wind up... something I\\'m increasingly concerned with... mate play online hour two day, we\\'re aware much time disappear sitting front TV, trying \\'frag\\' individual. getting balance getting home relasing stress day hour gaming, enjoying \\'real\\' life... bought US version World Warcraft came out. longest period played 23 hrs straight. gave game month addictive, subsequently bought European version (couldn\\'t help myself). future, I\\'m going regulate time far strictly. Great game! played MMORPG games years agree type games life sucking. concern younger generation gamers play hours end adult enviroment. MMORPG games need credit card play dont think parents know letting children into. Unless undeniable medical proof staring computer screens hours time damage person¿s health, expect decline get worse. people pathetic. need get machines notice world swiftly overcome issues troubles make trifling worries \"online universe\" absolutely meaningless. 24hours, kid school half term, Ultima Online game, ahhhh days LOL'],\n",
       "      dtype=object)"
      ]
     },
     "execution_count": 105,
     "metadata": {},
     "output_type": "execute_result"
    }
   ],
   "source": [
    "berita"
   ]
  },
  {
   "cell_type": "code",
   "execution_count": 106,
   "metadata": {},
   "outputs": [
    {
     "data": {
      "text/plain": [
       "array([[1, 0, 0, 0, 0],\n",
       "       [1, 0, 0, 0, 0],\n",
       "       [1, 0, 0, 0, 0],\n",
       "       ...,\n",
       "       [0, 0, 0, 0, 1],\n",
       "       [0, 0, 0, 0, 1],\n",
       "       [0, 0, 0, 0, 1]], dtype=uint8)"
      ]
     },
     "execution_count": 106,
     "metadata": {},
     "output_type": "execute_result"
    }
   ],
   "source": [
    "label"
   ]
  },
  {
   "cell_type": "code",
   "execution_count": 107,
   "metadata": {},
   "outputs": [],
   "source": [
    "# memsahkan dataset latih dan validasi\n",
    "from sklearn.model_selection import train_test_split\n",
    "\n",
    "X_latih, X_test, y_latih, y_test = train_test_split(berita, label, test_size=0.2, shuffle=True)"
   ]
  },
  {
   "cell_type": "code",
   "execution_count": 108,
   "metadata": {},
   "outputs": [],
   "source": [
    "import tensorflow as tf\n",
    "from tensorflow.keras.preprocessing.text import Tokenizer\n",
    "from tensorflow.keras.preprocessing.sequence import pad_sequences\n",
    "from tensorflow.keras.layers import LSTM,Dense,Embedding,Dropout\n",
    "from tensorflow.keras.models import Sequential\n",
    "from tensorflow.keras.optimizers import Adam"
   ]
  },
  {
   "cell_type": "code",
   "execution_count": 109,
   "metadata": {},
   "outputs": [
    {
     "name": "stdout",
     "output_type": "stream",
     "text": [
      "(445, 200)\n"
     ]
    }
   ],
   "source": [
    "vocab_size = 10000\n",
    "max_len = 200\n",
    "trunc_type = \"post\"\n",
    "oov_tok = \"<OOV>\"\n",
    "\n",
    "tokenizer = Tokenizer(num_words=vocab_size, oov_token=oov_tok)\n",
    "tokenizer.fit_on_texts(X_latih)\n",
    "\n",
    "word_index = tokenizer.word_index\n",
    "\n",
    "sequences_train = tokenizer.texts_to_sequences(X_latih)\n",
    "sequences_test = tokenizer.texts_to_sequences(X_test)\n",
    "pad_train = pad_sequences(sequences_train, maxlen=max_len, truncating=trunc_type)\n",
    "pad_test = pad_sequences(sequences_test, maxlen=max_len, truncating=trunc_type)\n",
    "\n",
    "print(pad_test.shape)"
   ]
  },
  {
   "cell_type": "code",
   "execution_count": 110,
   "metadata": {},
   "outputs": [
    {
     "data": {
      "text/plain": [
       "array([[   0,    0,    0, ..., 6530,   16,    1],\n",
       "       [ 174, 1667,    1, ...,  141,  331, 2367],\n",
       "       [   0,    0,    0, ...,  404,   44,  249],\n",
       "       ...,\n",
       "       [   0,    0,    0, ...,   46,  896, 1232],\n",
       "       [   0,    0,    0, ...,   88, 2069,  429],\n",
       "       [3174, 2854,  730, ...,  475,  308, 6177]])"
      ]
     },
     "execution_count": 110,
     "metadata": {},
     "output_type": "execute_result"
    }
   ],
   "source": [
    "pad_train"
   ]
  },
  {
   "cell_type": "code",
   "execution_count": 111,
   "metadata": {},
   "outputs": [
    {
     "data": {
      "text/plain": [
       "array([[ 672, 3662,    9, ..., 3637,    1,    1],\n",
       "       [1287,  801, 1164, ..., 2182,   55, 3649],\n",
       "       [   0,    0,    0, ..., 1977, 1074,  314],\n",
       "       ...,\n",
       "       [   0,    0,    0, ...,   63,  340,   83],\n",
       "       [   0,    0,    0, ...,   15,   21,  421],\n",
       "       [   0,    0,    0, ...,  184,   20,   18]])"
      ]
     },
     "execution_count": 111,
     "metadata": {},
     "output_type": "execute_result"
    }
   ],
   "source": [
    "pad_test"
   ]
  },
  {
   "cell_type": "code",
   "execution_count": 112,
   "metadata": {},
   "outputs": [
    {
     "name": "stdout",
     "output_type": "stream",
     "text": [
      "Model: \"sequential_2\"\n",
      "_________________________________________________________________\n",
      " Layer (type)                Output Shape              Param #   \n",
      "=================================================================\n",
      " embedding_2 (Embedding)     (None, 200, 64)           640000    \n",
      "                                                                 \n",
      " lstm_2 (LSTM)               (None, 128)               98816     \n",
      "                                                                 \n",
      " dense_4 (Dense)             (None, 128)               16512     \n",
      "                                                                 \n",
      " dropout_2 (Dropout)         (None, 128)               0         \n",
      "                                                                 \n",
      " dense_5 (Dense)             (None, 5)                 645       \n",
      "                                                                 \n",
      "=================================================================\n",
      "Total params: 755,973\n",
      "Trainable params: 755,973\n",
      "Non-trainable params: 0\n",
      "_________________________________________________________________\n"
     ]
    }
   ],
   "source": [
    "# model\n",
    "model = tf.keras.Sequential([\n",
    "    tf.keras.layers.Embedding(input_dim=vocab_size, output_dim=64, input_length=max_len),\n",
    "    tf.keras.layers.LSTM(128),\n",
    "    tf.keras.layers.Dense(128, activation='relu'),\n",
    "    tf.keras.layers.Dropout(0.5),\n",
    "    tf.keras.layers.Dense(5, activation='softmax')\n",
    "])\n",
    "model.compile(optimizer='adam', metrics=['accuracy'], loss='categorical_crossentropy',)\n",
    "model.summary()"
   ]
  },
  {
   "cell_type": "code",
   "execution_count": 113,
   "metadata": {},
   "outputs": [],
   "source": [
    "# callback\n",
    "class myCallback(tf.keras.callbacks.Callback):\n",
    "  def on_epoch_end(self, epoch, logs={}):\n",
    "    if(logs.get('accuracy')>0.91 and logs.get('val_accuracy')>0.91):\n",
    "      self.model.stop_training = True\n",
    "      print(\"\\n akurasi dari training set and the validation set telah terpenuhi > 91%!\")\n",
    "callbacks = myCallback()"
   ]
  },
  {
   "cell_type": "code",
   "execution_count": 114,
   "metadata": {},
   "outputs": [
    {
     "name": "stdout",
     "output_type": "stream",
     "text": [
      "Epoch 1/50\n",
      "56/56 - 33s - loss: 1.5465 - accuracy: 0.3056 - val_loss: 1.6036 - val_accuracy: 0.4337 - 33s/epoch - 590ms/step\n",
      "Epoch 2/50\n",
      "56/56 - 25s - loss: 1.0004 - accuracy: 0.5669 - val_loss: 0.7534 - val_accuracy: 0.6899 - 25s/epoch - 441ms/step\n",
      "Epoch 3/50\n",
      "56/56 - 23s - loss: 0.4616 - accuracy: 0.8185 - val_loss: 0.5454 - val_accuracy: 0.7888 - 23s/epoch - 408ms/step\n",
      "Epoch 4/50\n",
      "56/56 - 23s - loss: 0.3909 - accuracy: 0.8983 - val_loss: 0.4416 - val_accuracy: 0.8337 - 23s/epoch - 408ms/step\n",
      "Epoch 5/50\n",
      "56/56 - 23s - loss: 0.1022 - accuracy: 0.9781 - val_loss: 0.4801 - val_accuracy: 0.8517 - 23s/epoch - 409ms/step\n",
      "Epoch 6/50\n",
      "56/56 - 23s - loss: 0.0588 - accuracy: 0.9916 - val_loss: 0.4565 - val_accuracy: 0.8989 - 23s/epoch - 418ms/step\n",
      "Epoch 7/50\n",
      "56/56 - 24s - loss: 0.0391 - accuracy: 0.9938 - val_loss: 0.3528 - val_accuracy: 0.8764 - 24s/epoch - 427ms/step\n",
      "Epoch 8/50\n",
      "56/56 - 23s - loss: 0.0793 - accuracy: 0.9826 - val_loss: 0.4045 - val_accuracy: 0.8764 - 23s/epoch - 409ms/step\n",
      "Epoch 9/50\n",
      "56/56 - 23s - loss: 0.0084 - accuracy: 0.9989 - val_loss: 0.3161 - val_accuracy: 0.9034 - 23s/epoch - 413ms/step\n",
      "Epoch 10/50\n",
      "56/56 - 24s - loss: 0.1385 - accuracy: 0.9573 - val_loss: 0.6850 - val_accuracy: 0.7393 - 24s/epoch - 426ms/step\n",
      "Epoch 11/50\n",
      "56/56 - 23s - loss: 0.0928 - accuracy: 0.9831 - val_loss: 0.3974 - val_accuracy: 0.8584 - 23s/epoch - 404ms/step\n",
      "Epoch 12/50\n",
      "56/56 - 23s - loss: 0.0066 - accuracy: 1.0000 - val_loss: 0.3692 - val_accuracy: 0.8719 - 23s/epoch - 407ms/step\n",
      "Epoch 13/50\n",
      "56/56 - 23s - loss: 0.0030 - accuracy: 1.0000 - val_loss: 0.3722 - val_accuracy: 0.8854 - 23s/epoch - 417ms/step\n",
      "Epoch 14/50\n",
      "56/56 - 23s - loss: 0.0016 - accuracy: 1.0000 - val_loss: 0.3699 - val_accuracy: 0.8899 - 23s/epoch - 412ms/step\n",
      "Epoch 15/50\n",
      "56/56 - 23s - loss: 0.0012 - accuracy: 1.0000 - val_loss: 0.3706 - val_accuracy: 0.9011 - 23s/epoch - 402ms/step\n",
      "Epoch 16/50\n",
      "56/56 - 22s - loss: 8.8026e-04 - accuracy: 1.0000 - val_loss: 0.3752 - val_accuracy: 0.8989 - 22s/epoch - 401ms/step\n",
      "Epoch 17/50\n",
      "56/56 - 23s - loss: 7.6775e-04 - accuracy: 1.0000 - val_loss: 0.3900 - val_accuracy: 0.8966 - 23s/epoch - 411ms/step\n",
      "Epoch 18/50\n",
      "56/56 - 23s - loss: 6.0123e-04 - accuracy: 1.0000 - val_loss: 0.4060 - val_accuracy: 0.9034 - 23s/epoch - 407ms/step\n",
      "Epoch 19/50\n",
      "\n",
      " akurasi dari training set and the validation set telah terpenuhi > 91%!\n",
      "56/56 - 23s - loss: 4.7868e-04 - accuracy: 1.0000 - val_loss: 0.4151 - val_accuracy: 0.9101 - 23s/epoch - 404ms/step\n"
     ]
    }
   ],
   "source": [
    "num_epochs = 50\n",
    "history = model.fit(pad_train, y_latih, epochs=num_epochs, \n",
    "                    validation_data=(pad_test, y_test), verbose=2, callbacks=[callbacks])"
   ]
  },
  {
   "cell_type": "code",
   "execution_count": 117,
   "metadata": {},
   "outputs": [
    {
     "name": "stdout",
     "output_type": "stream",
     "text": [
      "56/56 [==============================] - 9s 148ms/step - loss: 6.5088e-05 - accuracy: 1.0000\n"
     ]
    },
    {
     "data": {
      "text/plain": [
       "[6.508763908641413e-05, 1.0]"
      ]
     },
     "execution_count": 117,
     "metadata": {},
     "output_type": "execute_result"
    }
   ],
   "source": [
    "# accuray\n",
    "model.evaluate(pad_train, y_latih)"
   ]
  },
  {
   "cell_type": "code",
   "execution_count": 118,
   "metadata": {},
   "outputs": [
    {
     "name": "stdout",
     "output_type": "stream",
     "text": [
      "14/14 [==============================] - 2s 152ms/step - loss: 0.4151 - accuracy: 0.9101\n"
     ]
    },
    {
     "data": {
      "text/plain": [
       "[0.41514161229133606, 0.9101123809814453]"
      ]
     },
     "execution_count": 118,
     "metadata": {},
     "output_type": "execute_result"
    }
   ],
   "source": [
    "# val accuracy\n",
    "model.evaluate(pad_test, y_test)"
   ]
  },
  {
   "cell_type": "code",
   "execution_count": 115,
   "metadata": {},
   "outputs": [
    {
     "data": {
      "image/png": "[encoded data removed]",
      "text/plain": [
       "<Figure size 640x480 with 1 Axes>"
      ]
     },
     "metadata": {},
     "output_type": "display_data"
    }
   ],
   "source": [
    "# plot of accuracy\n",
    "plt.plot(history.history['accuracy'])\n",
    "plt.plot(history.history['val_accuracy'])\n",
    "plt.title('Model Accuracy')\n",
    "plt.ylabel('accuracy')\n",
    "plt.xlabel('epoch')\n",
    "plt.legend(['train', 'test'], loc='upper left')\n",
    "plt.show()"
   ]
  },
  {
   "cell_type": "code",
   "execution_count": 116,
   "metadata": {},
   "outputs": [
    {
     "data": {
      "image/png": "[encoded data removed]",
      "text/plain": [
       "<Figure size 640x480 with 1 Axes>"
      ]
     },
     "metadata": {},
     "output_type": "display_data"
    }
   ],
   "source": [
    "# plot of loss\n",
    "plt.plot(history.history['loss'])\n",
    "plt.plot(history.history['val_loss'])\n",
    "plt.title('Model Loss')\n",
    "plt.ylabel('loss')\n",
    "plt.xlabel('epoch')\n",
    "plt.legend(['train', 'test'], loc='upper left')\n",
    "plt.show()"
   ]
  }
 ],
 "metadata": {
  "kernelspec": {
   "display_name": "Python 3.10.2 ('ini-env': venv)",
   "language": "python",
   "name": "python3"
  },
  "language_info": {
   "codemirror_mode": {
    "name": "ipython",
    "version": 3
   },
   "file_extension": ".py",
   "mimetype": "text/x-python",
   "name": "python",
   "nbconvert_exporter": "python",
   "pygments_lexer": "ipython3",
   "version": "3.10.2"
  },
  "orig_nbformat": 4,
  "vscode": {
   "interpreter": {
    "hash": "f478e80f65e8a33a5f70bec68c4d99c8650f3f9700a477b28bc1fa664e2a7ed6"
   }
  }
 },
 "nbformat": 4,
 "nbformat_minor": 2
}
